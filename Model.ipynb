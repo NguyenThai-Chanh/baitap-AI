{
  "nbformat": 4,
  "nbformat_minor": 0,
  "metadata": {
    "colab": {
      "name": "Model.ipynb",
      "private_outputs": true,
      "provenance": [],
      "mount_file_id": "1KOfCO0t4fitLpUg_XWNtK9t2b52AErkS",
      "authorship_tag": "ABX9TyM6YTYmOcJLbfFapUx6ozHL",
      "include_colab_link": true
    },
    "kernelspec": {
      "name": "python3",
      "display_name": "Python 3"
    },
    "language_info": {
      "name": "python"
    },
    "accelerator": "GPU",
    "gpuClass": "standard"
  },
  "cells": [
    {
      "cell_type": "markdown",
      "metadata": {
        "id": "view-in-github",
        "colab_type": "text"
      },
      "source": [
        "<a href=\"https://colab.research.google.com/github/NguyenThai-Chanh/baitap-AI/blob/main/Model.ipynb\" target=\"_parent\"><img src=\"https://colab.research.google.com/assets/colab-badge.svg\" alt=\"Open In Colab\"/></a>"
      ]
    },
    {
      "cell_type": "code",
      "execution_count": null,
      "metadata": {
        "id": "kuoTfjvKmPyJ"
      },
      "outputs": [],
      "source": [
        "pip install mtcnn"
      ]
    },
    {
      "cell_type": "code",
      "source": [
        "pip install joblib"
      ],
      "metadata": {
        "id": "Ssa9EpyzmV5_"
      },
      "execution_count": null,
      "outputs": []
    },
    {
      "cell_type": "code",
      "source": [
        "from os import listdir\n",
        "from os.path import isdir\n",
        "from PIL import Image\n",
        "from matplotlib import pyplot\n",
        "from mtcnn.mtcnn import MTCNN\n",
        "import cv2\n",
        "from keras.models import load_model\n",
        "from sklearn.metrics import accuracy_score\n",
        "from sklearn.preprocessing import LabelEncoder\n",
        "from sklearn.preprocessing import Normalizer\n",
        "from sklearn.svm import SVC\n",
        "from joblib import *"
      ],
      "metadata": {
        "id": "9gaYp0fpmjBa"
      },
      "execution_count": null,
      "outputs": []
    },
    {
      "cell_type": "code",
      "source": [
        "import numpy as np\n",
        "import matplotlib.pyplot as plt\n",
        "import tensorflow as tf\n",
        "import pandas as pd\n",
        "from keras.preprocessing.image import load_img, img_to_array,array_to_img,ImageDataGenerator, image\n",
        "from keras.layers import Dense,Activation,Dropout,Conv2D,MaxPooling2D,Flatten\n",
        "from tensorflow.keras.models import load_model\n",
        "from keras.models import  Sequential\n",
        "import os"
      ],
      "metadata": {
        "id": "7i2ji6KZmkoT"
      },
      "execution_count": null,
      "outputs": []
    },
    {
      "cell_type": "code",
      "source": [
        "#Kết nối Drive với ggcolab\n",
        "from google.colab import drive\n",
        "drive.mount('/content/drive')"
      ],
      "metadata": {
        "id": "oZUUo7Xznyot"
      },
      "execution_count": null,
      "outputs": []
    },
    {
      "cell_type": "code",
      "source": [
        "train_data = '/content/drive/MyDrive/Hình AI/train'\n",
        "test_data =  '/content/drive/MyDrive/Hình AI/test'"
      ],
      "metadata": {
        "id": "Vq6pM-ybmmzE"
      },
      "execution_count": null,
      "outputs": []
    },
    {
      "cell_type": "code",
      "source": [
        "from keras.engine.data_adapter import train_validation_split\n",
        "data_scale = ImageDataGenerator(\n",
        "              rescale=1. / 255,\n",
        "              shear_range=0.2,\n",
        "              zoom_range=0.2,\n",
        "              horizontal_flip=True)\n",
        "\n",
        "train_input = data_scale.flow_from_directory(train_data,\n",
        "                        target_size=(100, 100),\n",
        "                        batch_size=10,\n",
        "                        class_mode=\"categorical\")\n",
        "\n",
        "test_input = data_scale.flow_from_directory(test_data,\n",
        "                        target_size=(100, 100),\n",
        "                        batch_size=10,\n",
        "                        class_mode=\"categorical\")"
      ],
      "metadata": {
        "id": "z3y11SdCpEt1"
      },
      "execution_count": null,
      "outputs": []
    },
    {
      "cell_type": "code",
      "source": [
        "class_dienvien = ['cát tượng', 'chí tài', 'hoài linh', 'hứa minh đạt', 'jun phạm', 'khả như', 'long đẹp trai', 'lý hải', 'lý hùng','mạc văn khoa','ninh dương lan ngọc','thuý ngân','trấn thành','trường gian','võ thành tâm']\n",
        "print(\"labels: \", class_dienvien)\n",
        "print(\"match class: \", train_input.class_indices)\n",
        "print(\"Tổng cộng: \",train_input.num_classes)"
      ],
      "metadata": {
        "id": "K1G9gAlnpTWh"
      },
      "execution_count": null,
      "outputs": []
    },
    {
      "cell_type": "code",
      "source": [
        "model=Sequential()\n",
        "\n",
        "#LAYER 1\n",
        "model.add(Conv2D(32,(3,3),activation='relu',kernel_initializer='he_uniform',padding='same', input_shape=(100,100,3)))\n",
        "model.add(MaxPooling2D((2,2)))\n",
        "model.add(Dropout(0.25))\n",
        "#LAYER 2\n",
        "model.add(Conv2D(64,(3,3),activation='relu',kernel_initializer='he_uniform',padding='same'))\n",
        "model.add(MaxPooling2D((2,2)))\n",
        "model.add(Dropout(0.25))\n",
        "#LAYER 3\n",
        "model.add(Conv2D(128,(3,3),activation='relu',kernel_initializer='he_uniform',padding='same'))\n",
        "model.add(MaxPooling2D((2,2)))\n",
        "model.add(Dropout(0.25))\n",
        "\n",
        "\n",
        "#FULLY CONNECTED LAYER\n",
        "#Flatten Layer is used to change the dimension of output from convolution layer, which has 3D, to 2D output\n",
        "model.add(Flatten())\n",
        "\n",
        "#Dense(512) is a fully-connected layer with 128 hidden units\n",
        "model.add(Dense(512,activation='relu'))\n",
        "model.add(Dropout(0.25))\n",
        "model.add(Dense(512,activation='relu'))\n",
        "model.add(Dropout(0.25))\n",
        "\n",
        "model.add(Dense(15,activation='softmax'))  #15 class_name\n",
        "model.summary()"
      ],
      "metadata": {
        "id": "sF-_kKuSpWkj"
      },
      "execution_count": null,
      "outputs": []
    },
    {
      "cell_type": "code",
      "source": [
        "from tensorflow.keras.optimizers import Adam\n",
        "opt = Adam(learning_rate=0.001)\n",
        "model.compile(loss='categorical_crossentropy',optimizer='adam',metrics=['accuracy'])"
      ],
      "metadata": {
        "id": "QTRc0gBlpZMc"
      },
      "execution_count": null,
      "outputs": []
    },
    {
      "cell_type": "code",
      "source": [
        "face_train = model.fit(train_input,batch_size=10,epochs=50,verbose=1,validation_data=test_input)"
      ],
      "metadata": {
        "id": "M1LK0QbPpdR-"
      },
      "execution_count": null,
      "outputs": []
    },
    {
      "cell_type": "code",
      "source": [
        "model.save('/content/drive/MyDrive/Hình AI/dienvien.h5')"
      ],
      "metadata": {
        "id": "elXowqdzpfT9"
      },
      "execution_count": null,
      "outputs": []
    },
    {
      "cell_type": "code",
      "source": [
        "pic = image.load_img('/content/drive/MyDrive/Hình AI/test/chí tài/images (7).jpeg', target_size=(100,100)) \n",
        "plt.imshow(pic)\n",
        "pic = img_to_array(pic)\n",
        "pic = pic.reshape(1,100,100,3) \n",
        "pic = pic.astype('float32')\n",
        "pic = pic/255\n",
        "\n",
        "\n",
        "# predict \n",
        "guess=np.argmax(model.predict(pic), axis=1)\n",
        "y_pred = model.predict(pic)\n",
        "a = y_pred.max()\n",
        "a = a*100\n",
        "\n",
        "print(\"Tỉ lệ so sánh:\",y_pred)\n",
        "y_classes = [np.argmax(element) for element in y_pred]\n",
        "y_classes\n",
        "#đặt điều kiện\n",
        "if guess[0]==0:\n",
        "  print(\"Giống Diễn Viên: Cát Tường nhất, độ chính xác là :\",a,\"%\")\n",
        "if guess[0]==1:\n",
        "  print(\"Giống Diễn Viên: Chí Tài nhất, độ chính xác là :\",a,\"%\")\n",
        "if guess[0]==2:\n",
        "  print(\"Giống Diễn Viên: Hoài Linh, độ chính xác là :\",a,\"%\")\n",
        "if guess[0]==3:\n",
        "  print(\"Giống Diễn Viên: Hứa Minh Đạt, độ chính xác là :\",a,\"%\")\n",
        "if guess[0]==4:\n",
        "  print(\"Giống Diễn Viên: Jun Phạm, độ chính xác là :\",a,\"%\")\n",
        "if guess[0]==5:\n",
        "  print(\"Giống Diễn Viên: Khả Như, độ chính xác là :\",a,\"%\")\n",
        "if guess[0]==6:\n",
        "  print(\"Giống Diễn Viên: Long Đẹp Trai, độ chính xác là :\",a,\"%\")\n",
        "if guess[0]==7:\n",
        "  print(\"Giống Diễn Viên: Lý Hải, độ chính xác là :\",a,\"%\")\n",
        "if guess[0]==8:\n",
        "  print(\"Giống Diễn Viên: Lý Hùng, độ chính xác là :\",a,\"%\")\n",
        "if guess[0]==9:\n",
        "  print(\"Giống Diễn Viên: Mạc Văn Khoa, độ chính xác là :\",a,\"%\")\n",
        "if guess[0]==10:\n",
        "  print(\"Giống Diễn Viên: Ninh Dương Lan Ngọc, độ chính xác là :\",a,\"%\")\n",
        "if guess[0]==11:\n",
        "  print(\"Giống Diễn Viên: Thuý Ngân, độ chính xác là :\",a,\"%\")\n",
        "if guess[0]==12:\n",
        "  print(\"Giống Diễn Viên: Trấn Thành, độ chính xác là :\",a,\"%\")\n",
        "if guess[0]==13:\n",
        "  print(\"Giống Diễn Viên: Trường Giang, độ chính xác là :\",a,\"%\")\n",
        "if guess[0]==14:\n",
        "  print(\"Giống Diễn Viên: Võ Thành Tâm, độ chính xác là :\",a,\"%\")"
      ],
      "metadata": {
        "id": "_6FAfwRzret-"
      },
      "execution_count": null,
      "outputs": []
    },
    {
      "cell_type": "code",
      "source": [
        "pic = image.load_img('/content/drive/MyDrive/Hình AI/test/thuý ngân/images (2).jpeg', target_size=(100,100)) \n",
        "plt.imshow(pic)\n",
        "pic = img_to_array(pic)\n",
        "pic = pic.reshape(1,100,100,3) \n",
        "pic = pic.astype('float32')\n",
        "pic = pic/255\n",
        "\n",
        "\n",
        "# predict \n",
        "guess=np.argmax(model.predict(pic), axis=1)\n",
        "y_pred = model.predict(pic)\n",
        "a = y_pred.max()\n",
        "a = a*100\n",
        "\n",
        "print(\"Tỉ lệ so sánh:\",y_pred)\n",
        "y_classes = [np.argmax(element) for element in y_pred]\n",
        "y_classes\n",
        "#đặt điều kiện\n",
        "if guess[0]==0:\n",
        "  print(\"Giống Diễn Viên: Cát Tường nhất, độ chính xác là :\",a,\"%\")\n",
        "if guess[0]==1:\n",
        "  print(\"Giống Diễn Viên: Chí Tài nhất, độ chính xác là :\",a,\"%\")\n",
        "if guess[0]==2:\n",
        "  print(\"Giống Diễn Viên: Hoài Linh, độ chính xác là :\",a,\"%\")\n",
        "if guess[0]==3:\n",
        "  print(\"Giống Diễn Viên: Hứa Minh Đạt, độ chính xác là :\",a,\"%\")\n",
        "if guess[0]==4:\n",
        "  print(\"Giống Diễn Viên: Jun Phạm, độ chính xác là :\",a,\"%\")\n",
        "if guess[0]==5:\n",
        "  print(\"Giống Diễn Viên: Khả Như, độ chính xác là :\",a,\"%\")\n",
        "if guess[0]==6:\n",
        "  print(\"Giống Diễn Viên: Long Đẹp Trai, độ chính xác là :\",a,\"%\")\n",
        "if guess[0]==7:\n",
        "  print(\"Giống Diễn Viên: Lý Hải, độ chính xác là :\",a,\"%\")\n",
        "if guess[0]==8:\n",
        "  print(\"Giống Diễn Viên: Lý Hùng, độ chính xác là :\",a,\"%\")\n",
        "if guess[0]==9:\n",
        "  print(\"Giống Diễn Viên: Mạc Văn Khoa, độ chính xác là :\",a,\"%\")\n",
        "if guess[0]==10:\n",
        "  print(\"Giống Diễn Viên: Ninh Dương Lan Ngọc, độ chính xác là :\",a,\"%\")\n",
        "if guess[0]==11:\n",
        "  print(\"Giống Diễn Viên: Thuý Ngân, độ chính xác là :\",a,\"%\")\n",
        "if guess[0]==12:\n",
        "  print(\"Giống Diễn Viên: Trấn Thành, độ chính xác là :\",a,\"%\")\n",
        "if guess[0]==13:\n",
        "  print(\"Giống Diễn Viên: Trường Giang, độ chính xác là :\",a,\"%\")\n",
        "if guess[0]==14:\n",
        "  print(\"Giống Diễn Viên: Võ Thành Tâm, độ chính xác là :\",a,\"%\")"
      ],
      "metadata": {
        "id": "kXCo7NVotLBJ"
      },
      "execution_count": null,
      "outputs": []
    },
    {
      "cell_type": "code",
      "source": [
        "pic = image.load_img('/content/drive/MyDrive/Hình AI/test/lý hùng/images (7).jpeg', target_size=(100,100)) \n",
        "plt.imshow(pic)\n",
        "pic = img_to_array(pic)\n",
        "pic = pic.reshape(1,100,100,3) \n",
        "pic = pic.astype('float32')\n",
        "pic = pic/255\n",
        "\n",
        "\n",
        "# predict \n",
        "guess=np.argmax(model.predict(pic), axis=1)\n",
        "y_pred = model.predict(pic)\n",
        "a = y_pred.max()\n",
        "a = a*100\n",
        "\n",
        "print(\"Tỉ lệ so sánh:\",y_pred)\n",
        "y_classes = [np.argmax(element) for element in y_pred]\n",
        "y_classes\n",
        "#đặt điều kiện\n",
        "if guess[0]==0:\n",
        "  print(\"Giống Diễn Viên: Cát Tường nhất, độ chính xác là :\",a,\"%\")\n",
        "if guess[0]==1:\n",
        "  print(\"Giống Diễn Viên: Chí Tài nhất, độ chính xác là :\",a,\"%\")\n",
        "if guess[0]==2:\n",
        "  print(\"Giống Diễn Viên: Hoài Linh, độ chính xác là :\",a,\"%\")\n",
        "if guess[0]==3:\n",
        "  print(\"Giống Diễn Viên: Hứa Minh Đạt, độ chính xác là :\",a,\"%\")\n",
        "if guess[0]==4:\n",
        "  print(\"Giống Diễn Viên: Jun Phạm, độ chính xác là :\",a,\"%\")\n",
        "if guess[0]==5:\n",
        "  print(\"Giống Diễn Viên: Khả Như, độ chính xác là :\",a,\"%\")\n",
        "if guess[0]==6:\n",
        "  print(\"Giống Diễn Viên: Long Đẹp Trai, độ chính xác là :\",a,\"%\")\n",
        "if guess[0]==7:\n",
        "  print(\"Giống Diễn Viên: Lý Hải, độ chính xác là :\",a,\"%\")\n",
        "if guess[0]==8:\n",
        "  print(\"Giống Diễn Viên: Lý Hùng, độ chính xác là :\",a,\"%\")\n",
        "if guess[0]==9:\n",
        "  print(\"Giống Diễn Viên: Mạc Văn Khoa, độ chính xác là :\",a,\"%\")\n",
        "if guess[0]==10:\n",
        "  print(\"Giống Diễn Viên: Ninh Dương Lan Ngọc, độ chính xác là :\",a,\"%\")\n",
        "if guess[0]==11:\n",
        "  print(\"Giống Diễn Viên: Thuý Ngân, độ chính xác là :\",a,\"%\")\n",
        "if guess[0]==12:\n",
        "  print(\"Giống Diễn Viên: Trấn Thành, độ chính xác là :\",a,\"%\")\n",
        "if guess[0]==13:\n",
        "  print(\"Giống Diễn Viên: Trường Giang, độ chính xác là :\",a,\"%\")\n",
        "if guess[0]==14:\n",
        "  print(\"Giống Diễn Viên: Võ Thành Tâm, độ chính xác là :\",a,\"%\")"
      ],
      "metadata": {
        "id": "-6xYXlSwtYWA"
      },
      "execution_count": null,
      "outputs": []
    },
    {
      "cell_type": "code",
      "source": [
        ""
      ],
      "metadata": {
        "id": "7rABm__Qzt22"
      },
      "execution_count": null,
      "outputs": []
    }
  ]
}